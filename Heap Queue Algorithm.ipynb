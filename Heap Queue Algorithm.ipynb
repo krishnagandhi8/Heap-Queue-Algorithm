{
 "cells": [
  {
   "cell_type": "markdown",
   "metadata": {},
   "source": [
    "#  Write a Python program to find the three largest integers from a given list of numbers using Heap queue algorithm."
   ]
  },
  {
   "cell_type": "code",
   "execution_count": 1,
   "metadata": {},
   "outputs": [],
   "source": [
    "import heapq "
   ]
  },
  {
   "cell_type": "code",
   "execution_count": 2,
   "metadata": {},
   "outputs": [],
   "source": [
    "listing = [1,2,3,4,5,67,68,69]"
   ]
  },
  {
   "cell_type": "code",
   "execution_count": 4,
   "metadata": {},
   "outputs": [],
   "source": [
    "heapq.heapify(listing)"
   ]
  },
  {
   "cell_type": "code",
   "execution_count": 6,
   "metadata": {},
   "outputs": [
    {
     "name": "stdout",
     "output_type": "stream",
     "text": [
      "The largest 3 number of lists are [69, 68, 67] "
     ]
    }
   ],
   "source": [
    "print(\"The largest 3 number of lists are\",heapq.nlargest(3,listing),end=\" \")"
   ]
  },
  {
   "cell_type": "markdown",
   "metadata": {},
   "source": [
    "# Write a Python program to find the three smallest integers from a given list of numbers using Heap queue algorithm"
   ]
  },
  {
   "cell_type": "code",
   "execution_count": 7,
   "metadata": {},
   "outputs": [
    {
     "name": "stdout",
     "output_type": "stream",
     "text": [
      "The largest 3 number of lists are [1, 2, 3] "
     ]
    }
   ],
   "source": [
    "print(\"The largest 3 number of lists are\",heapq.nsmallest(3,listing),end=\" \")"
   ]
  },
  {
   "cell_type": "markdown",
   "metadata": {},
   "source": [
    "# Write a Python program to implement a heapsort by pushing all values onto a heap and then popping off the smallest values one at a time."
   ]
  },
  {
   "cell_type": "code",
   "execution_count": 13,
   "metadata": {},
   "outputs": [],
   "source": [
    "def heapsort(heap):\n",
    "    h = []\n",
    "    for value in heap:\n",
    "        heapq.heappush(h,value)\n",
    "    return [heapq.heappop(h) for i in range(len(h))]"
   ]
  },
  {
   "cell_type": "code",
   "execution_count": 14,
   "metadata": {},
   "outputs": [
    {
     "data": {
      "text/plain": [
       "[0, 1, 2, 3, 4, 5, 6, 9]"
      ]
     },
     "execution_count": 14,
     "metadata": {},
     "output_type": "execute_result"
    }
   ],
   "source": [
    "heapsort([6,9,1,2,3,4,5,0])"
   ]
  },
  {
   "cell_type": "markdown",
   "metadata": {},
   "source": [
    "# Write a Python function which accepts an arbitrary list and converts it to a heap using Heap queue algorithm"
   ]
  },
  {
   "cell_type": "code",
   "execution_count": 23,
   "metadata": {},
   "outputs": [
    {
     "name": "stdout",
     "output_type": "stream",
     "text": [
      "Normal list: [45, 24, 69, 51, 39, 53, 89, 1]\n",
      "Heapify(Heap) [1, 24, 53, 45, 39, 69, 89, 51]\n"
     ]
    }
   ],
   "source": [
    "listing = [45, 24, 69, 51, 39, 53, 89,1]\n",
    "print(\"Normal list:\",listing)\n",
    "heapq.heapify(listing)\n",
    "\n",
    "print(\"Heapify(Heap)\",listing)   "
   ]
  },
  {
   "cell_type": "markdown",
   "metadata": {},
   "source": [
    "# Write a Python program to delete the smallest element from the given Heap and then inserts a new item"
   ]
  },
  {
   "cell_type": "code",
   "execution_count": 34,
   "metadata": {},
   "outputs": [
    {
     "name": "stdout",
     "output_type": "stream",
     "text": [
      "[2, 5, 4, 69, 6, 7, 9]\n"
     ]
    }
   ],
   "source": [
    "lis = [4,5,1,2,6,7,9]\n",
    "heapq.heapify(lis)\n",
    "heapq.heapreplace(lis,69)\n",
    "print(lis)"
   ]
  },
  {
   "cell_type": "markdown",
   "metadata": {},
   "source": [
    "# Write a Python program to sort a given list of elements in ascending order using Heap queue algorithm"
   ]
  },
  {
   "cell_type": "code",
   "execution_count": 35,
   "metadata": {},
   "outputs": [
    {
     "data": {
      "text/plain": [
       "[1, 4, 5, 6, 7, 8, 9]"
      ]
     },
     "execution_count": 35,
     "metadata": {},
     "output_type": "execute_result"
    }
   ],
   "source": [
    "ascending_oder = [4,7,6,1,9,8,5]\n",
    "heapq.heapify(ascending_oder)\n",
    "l = len(ascending_oder)\n",
    "heapq.nsmallest(l,ascending_oder)"
   ]
  },
  {
   "cell_type": "markdown",
   "metadata": {},
   "source": [
    "# Write a Python program to find the kth (1 <= k <= array's length) largest element in an unsorted array using Heap queue algorithm."
   ]
  },
  {
   "cell_type": "code",
   "execution_count": 45,
   "metadata": {},
   "outputs": [
    {
     "name": "stdout",
     "output_type": "stream",
     "text": [
      "Enter the which element you want as largest:3\n",
      "96\n"
     ]
    }
   ],
   "source": [
    "largest_element = [140,69,96,120,52]\n",
    "h = []\n",
    "for i in largest_element:\n",
    "    heapq.heappush(h,(-i,i))\n",
    "k = int(input(\"Enter the which element you want as largest:\"))\n",
    "for m in range(k):\n",
    "    w,i = heapq.heappop(h)\n",
    "    if m  == k-1:\n",
    "        print(i)\n",
    "        "
   ]
  },
  {
   "cell_type": "markdown",
   "metadata": {},
   "source": [
    "# Write a Python program to compute maximum product of three numbers of a given array of integers using Heap queue algorithm. "
   ]
  },
  {
   "cell_type": "code",
   "execution_count": 47,
   "metadata": {},
   "outputs": [],
   "source": [
    "maximum_product=[5,6,4,7,8]\n",
    "a = heapq.nlargest(3,maximum_product)"
   ]
  },
  {
   "cell_type": "code",
   "execution_count": 51,
   "metadata": {},
   "outputs": [
    {
     "name": "stdout",
     "output_type": "stream",
     "text": [
      "Top 3 largest multiplication: 336\n"
     ]
    }
   ],
   "source": [
    "multiplication = 1\n",
    "for i in range(len(a)):\n",
    "    multiplication = multiplication*a[i]\n",
    "print(\"Top 3 largest multiplication:\",multiplication)\n",
    "    "
   ]
  },
  {
   "cell_type": "markdown",
   "metadata": {},
   "source": [
    "# Write a Python program to find the top k integers that occur the most frequently from a given lists of sorted and distinct integers using Heap queue algorithm"
   ]
  },
  {
   "cell_type": "code",
   "execution_count": 52,
   "metadata": {},
   "outputs": [
    {
     "name": "stdout",
     "output_type": "stream",
     "text": [
      "Original lists:\n",
      "[[1, 2, 6], [1, 3, 4, 5, 7, 8], [1, 3, 5, 6, 8, 9], [2, 5, 7, 11], [1, 4, 7, 8, 12]]\n",
      "\n",
      "Top 3 integers that occur the most frequently in the said lists:\n",
      "[5, 7, 1]\n"
     ]
    }
   ],
   "source": [
    "def func(nums, k):\n",
    "    import collections\n",
    "    d = collections.defaultdict(int)\n",
    "    for row in nums:\n",
    "        for i in row:\n",
    "            d[i] += 1\n",
    "    temp = []\n",
    "    import heapq\n",
    "    for key, v in d.items():\n",
    "        if len(temp) < k:\n",
    "            temp.append((v, key))\n",
    "            if len(temp) == k:\n",
    "                heapq.heapify(temp)\n",
    "        else:\n",
    "            if v > temp[0][0]:\n",
    "                heapq.heappop(temp)\n",
    "                heapq.heappush(temp, (v, key))\n",
    "    result = []\n",
    "    while temp:\n",
    "        v, key = heapq.heappop(temp)\n",
    "        result.append(key)\n",
    "    return result\n",
    "nums = [\n",
    "      [1, 2, 6],\n",
    "      [1, 3, 4, 5, 7, 8],\n",
    "      [1, 3, 5, 6, 8, 9],\n",
    "      [2, 5, 7, 11],\n",
    "      [1, 4, 7, 8, 12]\n",
    "    ]  \n",
    "k = 3\n",
    "print(\"Original lists:\")\n",
    "print(nums)\n",
    "print(\"\\nTop 3 integers that occur the most frequently in the said lists:\")\n",
    "print(func(nums, k))"
   ]
  },
  {
   "cell_type": "code",
   "execution_count": null,
   "metadata": {},
   "outputs": [],
   "source": []
  }
 ],
 "metadata": {
  "kernelspec": {
   "display_name": "Python 3",
   "language": "python",
   "name": "python3"
  },
  "language_info": {
   "codemirror_mode": {
    "name": "ipython",
    "version": 3
   },
   "file_extension": ".py",
   "mimetype": "text/x-python",
   "name": "python",
   "nbconvert_exporter": "python",
   "pygments_lexer": "ipython3",
   "version": "3.7.3"
  }
 },
 "nbformat": 4,
 "nbformat_minor": 2
}
